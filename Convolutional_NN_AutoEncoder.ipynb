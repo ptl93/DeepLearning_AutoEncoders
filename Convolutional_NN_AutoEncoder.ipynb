{
 "cells": [
  {
   "cell_type": "markdown",
   "metadata": {},
   "source": [
    "## Implementation of a convnets autoencoder using TensorFlow backend and Keras\n",
    "### Author: Tuan Le\n",
    "### Email: tuanle@hotmail.de"
   ]
  },
  {
   "cell_type": "markdown",
   "metadata": {},
   "source": [
    "In this case we will use the Zalando FASHION MNIST dataset. The dataset will be loaded from `tensorflow.keras.datasets` module via the Python API directly."
   ]
  },
  {
   "cell_type": "code",
   "execution_count": 1,
   "metadata": {},
   "outputs": [
    {
     "name": "stderr",
     "output_type": "stream",
     "text": [
      "C:\\Users\\tuan.le\\AppData\\Local\\Continuum\\anaconda3\\lib\\site-packages\\h5py\\__init__.py:34: FutureWarning: Conversion of the second argument of issubdtype from `float` to `np.floating` is deprecated. In future, it will be treated as `np.float64 == np.dtype(float).type`.\n",
      "  from ._conv import register_converters as _register_converters\n"
     ]
    },
    {
     "name": "stdout",
     "output_type": "stream",
     "text": [
      "Minimum value in matrix X: 0\n",
      "Maximum value in matrix X: 255\n",
      "Now scaling into range (0,1)\n",
      "Minimum value in matrix X: 0\n",
      "Maximum value in matrix X: 255\n"
     ]
    },
    {
     "data": {
      "image/png": "[encoded data removed]",
      "text/plain": [
       "<matplotlib.figure.Figure at 0x230f19a0fd0>"
      ]
     },
     "metadata": {},
     "output_type": "display_data"
    }
   ],
   "source": [
    "import tensorflow as tf\n",
    "import matplotlib.pyplot as plt\n",
    "import numpy as np\n",
    "%matplotlib inline\n",
    "\n",
    "(x_train, y_train), (x_test, y_test)= tf.keras.datasets.fashion_mnist.load_data()\n",
    "\n",
    "### Show first 9 images of dataset:\n",
    "# Plot images\n",
    "fig = plt.figure()\n",
    "for i in range(9):\n",
    "  plt.subplot(3,3,i+1)\n",
    "  plt.tight_layout()\n",
    "  plt.imshow(x_train[i], cmap='gray', interpolation='none')\n",
    "  plt.title(\"Class {}\".format(y_train[i]))\n",
    "  plt.xticks([])\n",
    "  plt.yticks([])\n",
    "\n",
    "### Scale X such that training can be done more efficiently:\n",
    "print(\"Minimum value in matrix X:\", np.min(x_train))\n",
    "print(\"Maximum value in matrix X:\", np.max(x_train))\n",
    "print(\"Now scaling into range (0,1)\")\n",
    "print(\"Minimum value in matrix X:\", np.min(x_train))\n",
    "print(\"Maximum value in matrix X:\", np.max(x_train))\n",
    "input_shape = (x_train.shape[1], x_train.shape[2], 1)\n",
    "## Preprocess \n",
    "x_train = x_train.astype('float32') / np.max(x_train)\n",
    "x_test = x_test.astype('float32') / np.max(x_test)\n",
    "x_train = np.reshape(x_train, (len(x_train), 28, 28, 1)) \n",
    "x_test = np.reshape(x_test, (len(x_test), 28, 28, 1))"
   ]
  },
  {
   "cell_type": "markdown",
   "metadata": {},
   "source": [
    "### Now define the architecture for the CNN autoencoder"
   ]
  },
  {
   "cell_type": "code",
   "execution_count": 2,
   "metadata": {},
   "outputs": [
    {
     "name": "stderr",
     "output_type": "stream",
     "text": [
      "Using TensorFlow backend.\n"
     ]
    },
    {
     "name": "stdout",
     "output_type": "stream",
     "text": [
      "Definining encoder part of cnn autoencoder:\n",
      "Convolutional Neural Net Encoder Part:\n",
      "_________________________________________________________________\n",
      "Layer (type)                 Output Shape              Param #   \n",
      "=================================================================\n",
      "enc_conv_layer_1_relu (Conv2 (None, 28, 28, 32)        320       \n",
      "_________________________________________________________________\n",
      "enc_batch_normal_layer_1 (Ba (None, 28, 28, 32)        128       \n",
      "_________________________________________________________________\n",
      "enc_max_pooling_layer_1 (Max (None, 14, 14, 32)        0         \n",
      "_________________________________________________________________\n",
      "enc_conv_layer_2_selu (Conv2 (None, 14, 14, 16)        4624      \n",
      "_________________________________________________________________\n",
      "enc_max_pooling_layer_2 (Max (None, 7, 7, 16)          0         \n",
      "_________________________________________________________________\n",
      "enc_conv_layer_3_softplus (C (None, 7, 7, 8)           1160      \n",
      "_________________________________________________________________\n",
      "enc_batch_normal_layer_3 (Ba (None, 7, 7, 8)           32        \n",
      "_________________________________________________________________\n",
      "max_pooling_layer_3 (MaxPool (None, 4, 4, 8)           0         \n",
      "=================================================================\n",
      "Total params: 6,264\n",
      "Trainable params: 6,184\n",
      "Non-trainable params: 80\n",
      "_________________________________________________________________\n",
      "None\n",
      "The output shape of the encoder part is: (None, 4, 4, 8)\n",
      "Flatten version has 128 entries.\n",
      "Definining decoder part of cnn autoencoder:\n",
      "_________________________________________________________________\n",
      "Layer (type)                 Output Shape              Param #   \n",
      "=================================================================\n",
      "enc_conv_layer_1_relu (Conv2 (None, 28, 28, 32)        320       \n",
      "_________________________________________________________________\n",
      "enc_batch_normal_layer_1 (Ba (None, 28, 28, 32)        128       \n",
      "_________________________________________________________________\n",
      "enc_max_pooling_layer_1 (Max (None, 14, 14, 32)        0         \n",
      "_________________________________________________________________\n",
      "enc_conv_layer_2_selu (Conv2 (None, 14, 14, 16)        4624      \n",
      "_________________________________________________________________\n",
      "enc_max_pooling_layer_2 (Max (None, 7, 7, 16)          0         \n",
      "_________________________________________________________________\n",
      "enc_conv_layer_3_softplus (C (None, 7, 7, 8)           1160      \n",
      "_________________________________________________________________\n",
      "enc_batch_normal_layer_3 (Ba (None, 7, 7, 8)           32        \n",
      "_________________________________________________________________\n",
      "max_pooling_layer_3 (MaxPool (None, 4, 4, 8)           0         \n",
      "_________________________________________________________________\n",
      "dec_conv_layer_4_relu (Conv2 (None, 4, 4, 8)           584       \n",
      "_________________________________________________________________\n",
      "dec_batch_normal_layer_4 (Ba (None, 4, 4, 8)           32        \n",
      "_________________________________________________________________\n",
      "dec_upsample_conv_layer4 (Up (None, 8, 8, 8)           0         \n",
      "_________________________________________________________________\n",
      "dec_conv_layer_5_relu (Conv2 (None, 8, 8, 16)          1168      \n",
      "_________________________________________________________________\n",
      "dec_batch_normal_layer_5 (Ba (None, 8, 8, 16)          64        \n",
      "_________________________________________________________________\n",
      "dec_upsample_conv_layer5 (Up (None, 16, 16, 16)        0         \n",
      "_________________________________________________________________\n",
      "dec_conv_layer_6_relu (Conv2 (None, 14, 14, 32)        4640      \n",
      "_________________________________________________________________\n",
      "dec_batch_normal_layer_6 (Ba (None, 14, 14, 32)        128       \n",
      "_________________________________________________________________\n",
      "dec_upsample_conv_layer6 (Up (None, 28, 28, 32)        0         \n",
      "_________________________________________________________________\n",
      "dec_conv_layer_7_relu (Conv2 (None, 28, 28, 1)         289       \n",
      "=================================================================\n",
      "Total params: 13,169\n",
      "Trainable params: 12,977\n",
      "Non-trainable params: 192\n",
      "_________________________________________________________________\n",
      "None\n"
     ]
    }
   ],
   "source": [
    "## Import keras modules for defining architecture\n",
    "from keras.models import Sequential\n",
    "from keras.layers import Conv2D, MaxPooling2D, BatchNormalization, UpSampling2D\n",
    "\n",
    "conv_autoencoder = Sequential()\n",
    "\n",
    "##### Encoder Part #####\n",
    "print(\"Definining encoder part of cnn autoencoder:\")\n",
    "#### 1. Convolutional Layer with relu####\n",
    "conv_autoencoder.add(Conv2D(32, (3, 3),\n",
    "                            padding='same', input_shape=input_shape,\n",
    "                            activation='relu', name='enc_conv_layer_1_relu'))\n",
    "\n",
    "## Add BatchNormalization\n",
    "conv_autoencoder.add(BatchNormalization(name='enc_batch_normal_layer_1'))\n",
    "## Add MaxPooling to shrink dimension\n",
    "conv_autoencoder.add(MaxPooling2D((2,2), padding='same', name='enc_max_pooling_layer_1'))\n",
    "\n",
    "#### 2. Covolutional Layer with kernel initializer and lecun_normal activation ####\n",
    "conv_autoencoder.add(Conv2D(16, (3, 3),\n",
    "                            activation='selu', padding='same',\n",
    "                            kernel_initializer='lecun_normal', name='enc_conv_layer_2_selu'))\n",
    "## Add Maxpooling to shrink dimension\n",
    "conv_autoencoder.add(MaxPooling2D((2,2), padding='same', name='enc_max_pooling_layer_2'))\n",
    "\n",
    "#### 3. Convolutional Layer with kernel initializer and softplus activation ####\n",
    "conv_autoencoder.add(Conv2D(8, (3, 3),\n",
    "                            activation='softplus', padding='same',\n",
    "                            kernel_initializer='RandomNormal', name='enc_conv_layer_3_softplus'))\n",
    "\n",
    "conv_autoencoder.add(BatchNormalization(name='enc_batch_normal_layer_3'))\n",
    "## Add Maxpooling as last dimension shrinkage for the encoder part\n",
    "conv_autoencoder.add(MaxPooling2D((2, 2), padding='same', name='max_pooling_layer_3'))\n",
    "\n",
    "print(\"Convolutional Neural Net Encoder Part:\")\n",
    "print(conv_autoencoder.summary())\n",
    "print(\"The output shape of the encoder part is:\", conv_autoencoder.output_shape)\n",
    "print(\"Flatten version has\",\n",
    "      conv_autoencoder.output_shape[1]*conv_autoencoder.output_shape[2]*conv_autoencoder.output_shape[3], \"entries.\")\n",
    "\n",
    "##### Decoder Part #####\n",
    "print(\"Definining decoder part of cnn autoencoder:\")\n",
    "\n",
    "#### 4. Convolutional Layer with relu activation ####\n",
    "conv_autoencoder.add(Conv2D(8, (3, 3),\n",
    "                            activation='relu', padding='same',\n",
    "                            kernel_initializer='lecun_normal', name='dec_conv_layer_4_relu'))\n",
    "conv_autoencoder.add(BatchNormalization(name='dec_batch_normal_layer_4'))\n",
    "#### Add deconvolution or rather transposed convolution\n",
    "conv_autoencoder.add(UpSampling2D((2, 2), name='dec_upsample_conv_layer4'))\n",
    "\n",
    "#### 5. Convolutional Layer with relu activation ####\n",
    "conv_autoencoder.add(Conv2D(16, (3, 3),\n",
    "                            activation='relu', padding='same',\n",
    "                            kernel_initializer='lecun_normal', name='dec_conv_layer_5_relu'))\n",
    "conv_autoencoder.add(BatchNormalization(name='dec_batch_normal_layer_5'))\n",
    "#### Add deconvolution or rather transposed convolution\n",
    "conv_autoencoder.add(UpSampling2D((2, 2), name='dec_upsample_conv_layer5'))\n",
    "\n",
    "#### 6. Convolutional Layer with relu activation ####\n",
    "conv_autoencoder.add(Conv2D(32, (3, 3),\n",
    "                            activation='relu', padding='valid',\n",
    "                            kernel_initializer='lecun_normal', name='dec_conv_layer_6_relu'))\n",
    "conv_autoencoder.add(BatchNormalization(name='dec_batch_normal_layer_6'))\n",
    "#### Add deconvolution or rather transposed convolution\n",
    "conv_autoencoder.add(UpSampling2D((2, 2), name='dec_upsample_conv_layer6'))\n",
    "\n",
    "#### 7. Convolutional Layer with relu activation as decoder part, hence number of filters only 1####\n",
    "conv_autoencoder.add(Conv2D(1, (3, 3),\n",
    "                            activation='sigmoid', padding='same',\n",
    "                            kernel_initializer='lecun_normal', name='dec_conv_layer_7_relu'))\n",
    "\n",
    "print(conv_autoencoder.summary())"
   ]
  },
  {
   "cell_type": "markdown",
   "metadata": {},
   "source": [
    "### Now we train the model and save the call back history on local machine"
   ]
  },
  {
   "cell_type": "code",
   "execution_count": 3,
   "metadata": {},
   "outputs": [
    {
     "name": "stdout",
     "output_type": "stream",
     "text": [
      "C:\\Users\\tuan.le\\Desktop\\DeepLearning_AutoEncoders\n"
     ]
    }
   ],
   "source": [
    "import os\n",
    "print(os.getcwd())"
   ]
  },
  {
   "cell_type": "code",
   "execution_count": null,
   "metadata": {},
   "outputs": [
    {
     "name": "stdout",
     "output_type": "stream",
     "text": [
      "Train on 60000 samples, validate on 10000 samples\n",
      "Epoch 1/50\n",
      "60000/60000 [==============================] - 485s 8ms/step - loss: 0.3711 - acc: 0.4927 - val_loss: 0.3365 - val_acc: 0.4937\n",
      "\n",
      "Epoch 00001: val_acc improved from -inf to 0.49371, saving model to cnn_autencoder.hdf5\n",
      "Epoch 2/50\n",
      "60000/60000 [==============================] - 490s 8ms/step - loss: 0.2986 - acc: 0.5055 - val_loss: 0.3102 - val_acc: 0.4996\n",
      "\n",
      "Epoch 00002: val_acc improved from 0.49371 to 0.49959, saving model to cnn_autencoder.hdf5\n",
      "Epoch 3/50\n",
      "60000/60000 [==============================] - 497s 8ms/step - loss: 0.2911 - acc: 0.5062 - val_loss: 0.2990 - val_acc: 0.5021\n",
      "\n",
      "Epoch 00003: val_acc improved from 0.49959 to 0.50209, saving model to cnn_autencoder.hdf5\n",
      "Epoch 4/50\n",
      "60000/60000 [==============================] - 514s 9ms/step - loss: 0.2873 - acc: 0.5067 - val_loss: 0.2962 - val_acc: 0.5026\n",
      "\n",
      "Epoch 00004: val_acc improved from 0.50209 to 0.50255, saving model to cnn_autencoder.hdf5\n",
      "Epoch 5/50\n",
      "60000/60000 [==============================] - 495s 8ms/step - loss: 0.2848 - acc: 0.5070 - val_loss: 0.2874 - val_acc: 0.5043\n",
      "\n",
      "Epoch 00005: val_acc improved from 0.50255 to 0.50431, saving model to cnn_autencoder.hdf5\n",
      "Epoch 6/50\n",
      "60000/60000 [==============================] - 491s 8ms/step - loss: 0.2828 - acc: 0.5072 - val_loss: 0.2853 - val_acc: 0.5050\n",
      "\n",
      "Epoch 00006: val_acc improved from 0.50431 to 0.50502, saving model to cnn_autencoder.hdf5\n",
      "Epoch 7/50\n",
      "27648/60000 [============>.................] - ETA: 4:08 - loss: 0.2819 - acc: 0.5068"
     ]
    }
   ],
   "source": [
    "from keras.losses import binary_crossentropy\n",
    "from keras.optimizers import adam\n",
    "from keras.callbacks import ModelCheckpoint\n",
    "\n",
    "conv_autoencoder.compile(\n",
    "            loss = binary_crossentropy,\n",
    "            optimizer = adam(lr = 1e-3),\n",
    "            metrics = ['accuracy']\n",
    "        )\n",
    "callbacks = [\n",
    "            ModelCheckpoint(filepath = 'cnn_autencoder.hdf5', monitor = 'val_acc',\n",
    "                save_best_only = True, verbose=1, mode = 'max')\n",
    "            ]\n",
    "\n",
    "import datetime\n",
    "start_train = datetime.datetime.now()\n",
    "history = conv_autoencoder.fit(\n",
    "            x=x_train, y=x_train,\n",
    "            epochs=50,\n",
    "            batch_size=256,\n",
    "            shuffle=True,\n",
    "            validation_data=(x_test, x_test),\n",
    "            callbacks = callbacks\n",
    "        )\n",
    "end_train = datetime.datetime.now()\n",
    "time_train = end_train - start_train\n",
    "print(\"Training took:\", time_train)\n",
    "\n",
    "# model performance\n",
    "train_results = conv_autoencoder.evaluate(x_train, x_train)\n",
    "test_results = conv_autoencoder.evaluate(x_test, x_test)\n",
    "print(\"Train       Loss: \", train_results[0])\n",
    "print(\"Train       Acc: \",  train_results[1])\n",
    "print(\"Validation  Loss:\",  test_results[0])\n",
    "print(\"Validation  Acc: \",  test_results[1])"
   ]
  },
  {
   "cell_type": "markdown",
   "metadata": {},
   "source": [
    "## Stop training\n",
    "Training was stopped due to local computing and not on GPU. As can be seen test accuracy is low at about 50%.  \n",
    "Reason for that might be the small convolutional layers in terms of number of depths. In the chunks below we will reload the model and use the saved weights for some insights on how the reconstruction looks like etc."
   ]
  },
  {
   "cell_type": "code",
   "execution_count": 4,
   "metadata": {},
   "outputs": [],
   "source": [
    "from keras.losses import binary_crossentropy\n",
    "from keras.optimizers import adam\n",
    "from keras.callbacks import ModelCheckpoint\n",
    "\n",
    "conv_autoencoder.load_weights('cnn_autencoder.hdf5')\n",
    "conv_autoencoder.compile(\n",
    "            loss = binary_crossentropy,\n",
    "            optimizer = adam(lr = 1e-3),\n",
    "            metrics = ['accuracy']\n",
    "        )"
   ]
  },
  {
   "cell_type": "code",
   "execution_count": 5,
   "metadata": {},
   "outputs": [],
   "source": [
    "## Predict test images to get reconstruction\n",
    "decoded_images = conv_autoencoder.predict(x_test)"
   ]
  },
  {
   "cell_type": "code",
   "execution_count": 8,
   "metadata": {},
   "outputs": [
    {
     "name": "stdout",
     "output_type": "stream",
     "text": [
      "First 9 images from test data\n"
     ]
    },
    {
     "data": {
      "image/png": "[encoded data removed]",
      "text/plain": [
       "<matplotlib.figure.Figure at 0x23080d97278>"
      ]
     },
     "metadata": {},
     "output_type": "display_data"
    }
   ],
   "source": [
    "print(\"First 9 images from test data\")\n",
    "fig = plt.figure()\n",
    "for i in range(9):\n",
    "  plt.subplot(3,3,i+1)\n",
    "  plt.tight_layout()\n",
    "  plt.imshow(x_test[i].reshape(28, 28), cmap='gray', interpolation='none')\n",
    "  plt.title(\"Class {}\".format(y_test[i]))\n",
    "  plt.xticks([])\n",
    "  plt.yticks([])"
   ]
  },
  {
   "cell_type": "code",
   "execution_count": 10,
   "metadata": {},
   "outputs": [
    {
     "name": "stdout",
     "output_type": "stream",
     "text": [
      "Corresponding reconstructed 9 test images\n"
     ]
    },
    {
     "data": {
      "image/png": "[encoded data removed]",
      "text/plain": [
       "<matplotlib.figure.Figure at 0x230fb7bdbe0>"
      ]
     },
     "metadata": {},
     "output_type": "display_data"
    }
   ],
   "source": [
    "print(\"Corresponding reconstructed 9 test images\")    \n",
    "fig = plt.figure()\n",
    "for i in range(9):\n",
    "  plt.subplot(3,3,i+1)\n",
    "  plt.tight_layout()\n",
    "  plt.imshow(decoded_images[i].reshape(28, 28), cmap='gray', interpolation='none')\n",
    "  plt.title(\"Class {}\".format(y_test[i]))\n",
    "  plt.xticks([])\n",
    "  plt.yticks([])"
   ]
  },
  {
   "cell_type": "markdown",
   "metadata": {},
   "source": [
    "## Comments\n",
    "As can be seen the reconstruction is rather bad. For example the second image in the first row is not properly reconstructed and has the 'LEE' brand. Further improvements would be to create larger CNNs (in terms of number of filters/depth)  \n",
    "in the encoder and decoder part in order to better fetch the features. "
   ]
  },
  {
   "cell_type": "code",
   "execution_count": null,
   "metadata": {},
   "outputs": [],
   "source": [
    "## END"
   ]
  }
 ],
 "metadata": {
  "kernelspec": {
   "display_name": "Python 3",
   "language": "python",
   "name": "python3"
  },
  "language_info": {
   "codemirror_mode": {
    "name": "ipython",
    "version": 3
   },
   "file_extension": ".py",
   "mimetype": "text/x-python",
   "name": "python",
   "nbconvert_exporter": "python",
   "pygments_lexer": "ipython3",
   "version": "3.6.2"
  }
 },
 "nbformat": 4,
 "nbformat_minor": 2
}
