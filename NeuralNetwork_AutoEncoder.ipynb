{
 "cells": [
  {
   "cell_type": "markdown",
   "metadata": {},
   "source": [
    "# A simple neural network autoencoder implemented using TensorFlow  \n",
    "### Author: Tuan Le\n",
    "### Email: tuanle@hotmail.de"
   ]
  },
  {
   "cell_type": "markdown",
   "metadata": {},
   "source": [
    "### Theoretical Insights:  \n",
    "Suppose we have some data $\\mathbf{X}$ (for example an image) which lies in a $M$-dimensional space.  \n",
    "For example the famous [MNIST Handwritten Digit Dataset](https://www.tensorflow.org/versions/r1.0/get_started/mnist/beginners) being greyscale image. In this case one can think of one image a 2-dimensional array (or matrix).  \n",
    "For the MNIST CASE the dimension would be $28 x 28$. Now assume we `flatten()` this matrix. Think of it when having a straight line of length $K$ and you adjust this line such that you get a square of size $MxM=M^2 =:K$.  \n",
    "This square would be our image matrix. Now we don't want the square again and with the left hand take the beginning of the line and the right hand the end of the line. Try to stretch your arm widely (hopefully you have a wide back). You should have the line of length $K$ again. So what flattening does is the following. \n",
    "Suppose we have a matrix $ \\begin{pmatrix}\n",
    "a & b \\\\ \n",
    "c & d\n",
    "\\end{pmatrix} $ and now we flatten this 2D-array such that we get a vector $\\begin{pmatrix}\n",
    "a, &b,  &c,  & d\n",
    "\\end{pmatrix}$  \n",
    "In this case our $28x28$ matrix will be flatten into a $(781,1)'$ vector. Now the dimension of this flattened vector $\\mathbf{x}_i$ is $\\mathbb{R}^{781}$ which represents class label (some number), e.g $y_i = 2$. Would it be possible to *reduce* the dimension of this vector ? One might think that if we were to reduce the dimension with some function $g_e()$ we would receive a featuremap $\\mathbf{h}_i = g_e(\\mathbf{x}_i)$ and from this featuremap $\\mathbf{h}_i \\in \\mathbb{R}^{M_h}$ we could use this as \"new feature\" in order to learn $y_i$. The first step is called *encodeing*. We map an **observed** pattern (feature-image) into a (hopefully) lower-dimensional space such that we might improve our learning representation.  \n",
    "Another approach would be, after we have gained the featuremap $\\mathbf{h}_i$ we want to transform this vector back into its original form. This is called *decoding*.  \n",
    "  \n",
    "So to sum it up we have 2 mechanism within the autoencoder (now we focus on one specific observation $i$):\n",
    "+ *encoder*: $\\mathbf{h}_i = g_e(\\mathbf{x}_i)$\n",
    "+ *decoder*: $\\hat{\\mathbf{x}}_i \\approx g_d(g_e(\\mathbf{x}_i)) = g_d(\\mathbf{h}_i)$\n",
    "\n",
    "Note the decoder can be used for *generating* new samples, by applying the decoder function on a sampled vector $h$ which lies in the space $\\mathbb{R}^{M_h}$.\n",
    "\n",
    "So for a neural network encoder following image should show the relationship of encoder and decoder:\n",
    "<img src='https://github.com/ptl93/DeepLearning_AutoEncoders/blob/master/images/autoencoder_schema.jpg?raw=true'>\n",
    "([Source: Keras AutoEncoder Blog](https://blog.keras.io/building-autoencoders-in-keras.html)) \n",
    "  \n",
    "What might be interested in is the compressed version $\\mathbf{h}_i$."
   ]
  },
  {
   "cell_type": "markdown",
   "metadata": {},
   "source": [
    "For the implementation of the neural network autoencoder this implementation will use a simple 1-Hidden-Layer Neural Network represented in the following image (suppose we have 6 input features, hence $M = 6$):\n",
    "<img src=\"https://raw.githubusercontent.com/ptl93/DeepLearning_AutoEncoders/master/images/Autoencoder_simple_nn_6features.png\">\n",
    "([Source: Stanford Autoencoders Explanation](http://ufldl.stanford.edu/tutorial/unsupervised/Autoencoders/))"
   ]
  },
  {
   "cell_type": "markdown",
   "metadata": {},
   "source": [
    "So for the connection between the input layer $L_1$ to the first hidden layer $L_2$ we need a (weight) Matrix $\\mathbf{V}$ (Note that in this case we reduce the dimension from dimension 6 to 4 (not counting the biases in input and hidden layer)). This weighted sum will be $\\mathbf{h}_{in} = \\mathbf{Vx}$ and $\\mathbf{h} = \\sigma(\\mathbf{h}_{in})$ where $\\sigma$ is the [sigmoid function](https://en.wikipedia.org/wiki/Sigmoid_functiona).  \n",
    "After that we need to transform the featuremap $\\mathbf{h}$ back to the original space obtaining $\\hat{\\mathbf{x}}$ via matrix multiplication with $\\mathbf{W}$ again, such that $\\hat{\\mathbf{x}} = \\mathbf{Wh} = \\mathbf{WVx}$\n",
    "Training will be done via stochastic gradient descent where the loss function is the euclidean norm, hence:  \n",
    "$cost(\\mathbf{V}, \\mathbf{W}) = \\sum_{i=1}^{N}\\sum_{j=1}^{M}(x_{i,j} - \\hat{x}_{i,j})^2$\n"
   ]
  },
  {
   "cell_type": "code",
   "execution_count": 1,
   "metadata": {},
   "outputs": [
    {
     "name": "stderr",
     "output_type": "stream",
     "text": [
      "C:\\Users\\tuanl\\Anaconda3\\lib\\site-packages\\h5py\\__init__.py:36: FutureWarning: Conversion of the second argument of issubdtype from `float` to `np.floating` is deprecated. In future, it will be treated as `np.float64 == np.dtype(float).type`.\n",
      "  from ._conv import register_converters as _register_converters\n",
      "Using TensorFlow backend.\n"
     ]
    }
   ],
   "source": [
    "### Import libraries and modules\n",
    "from keras.datasets import mnist\n",
    "import numpy as np\n",
    "import tensorflow as tf\n",
    "import matplotlib\n",
    "import matplotlib.pyplot as plt\n",
    "% matplotlib inline"
   ]
  },
  {
   "cell_type": "code",
   "execution_count": 2,
   "metadata": {},
   "outputs": [
    {
     "name": "stdout",
     "output_type": "stream",
     "text": [
      "Shape of training images: (70000, 28, 28)\n",
      "One observation can be represented as a vector with: 784 entries\n"
     ]
    }
   ],
   "source": [
    "### Load MNIST data into training and test sets:\n",
    "(X_train, y_train), (X_test, y_test) = mnist.load_data()\n",
    "\n",
    "### Concatenate train and test, since focus in this notebook lies in the autoencoder and not modell-fitting\n",
    "X = np.concatenate((X_train, X_test), axis=0)\n",
    "y = np.concatenate((y_train, y_test), axis=0)\n",
    "del X_train, y_train, X_test, y_test\n",
    "\n",
    "print(\"Shape of training images:\", X.shape)\n",
    "print(\"One observation can be represented as a vector with:\", X.shape[1]*X.shape[2], \"entries\")"
   ]
  },
  {
   "cell_type": "code",
   "execution_count": 3,
   "metadata": {},
   "outputs": [
    {
     "data": {
      "image/png": "[encoded data removed]",
      "text/plain": [
       "<Figure size 432x288 with 9 Axes>"
      ]
     },
     "metadata": {},
     "output_type": "display_data"
    }
   ],
   "source": [
    "### Show first 9 images of dataset:\n",
    "# Plot images\n",
    "fig = plt.figure()\n",
    "for i in range(9):\n",
    "  plt.subplot(3,3,i+1)\n",
    "  plt.tight_layout()\n",
    "  plt.imshow(X[i], cmap='gray', interpolation='none')\n",
    "  plt.title(\"Class {}\".format(y[i]))\n",
    "  plt.xticks([])\n",
    "  plt.yticks([])"
   ]
  },
  {
   "cell_type": "code",
   "execution_count": 4,
   "metadata": {},
   "outputs": [
    {
     "name": "stdout",
     "output_type": "stream",
     "text": [
      "Minimum value in matrix X: 0\n",
      "Maximum value in matrix X: 255\n",
      "Now scalingi into range (0,1)\n",
      "Minimum value in matrix X: 0.0\n",
      "Maximum value in matrix X: 1.0\n"
     ]
    }
   ],
   "source": [
    "### Scale X such that training can be done more efficiently:\n",
    "print(\"Minimum value in matrix X:\", np.min(X))\n",
    "print(\"Maximum value in matrix X:\", np.max(X))\n",
    "print(\"Now scalingi into range (0,1)\")\n",
    "X = X.astype(\"float32\")\n",
    "X /= np.max(X)\n",
    "print(\"Minimum value in matrix X:\", np.min(X))\n",
    "print(\"Maximum value in matrix X:\", np.max(X))"
   ]
  },
  {
   "cell_type": "markdown",
   "metadata": {},
   "source": [
    "Now assume we want to shrink the dimension of the imput vector from 784 to 81. Hence $\\mathbf{h_i} \\in \\mathcal{R}^{81}$ for all $i = 1,2,...,70000$."
   ]
  },
  {
   "cell_type": "code",
   "execution_count": 5,
   "metadata": {},
   "outputs": [],
   "source": [
    "#### Train Neural Network Autoencoder ####\n",
    "# Reset graph\n",
    "tf.reset_default_graph()\n",
    " \n",
    "# Start graph definition\n",
    "g = tf.Graph()\n",
    "\n",
    "# Parameters\n",
    "image_size = X.shape[1] * X.shape[2]\n",
    "batch_size = 256\n",
    "input_layer_size = X.shape[1] * X.shape[2]\n",
    "hidden_layer_size = 9 * 9 \n",
    "epochs = 50\n",
    "\n",
    "## Reshape X into vector format (as flattening)\n",
    "X = np.reshape(X, newshape=(X.shape[0], X.shape[1]*X.shape[2]))\n",
    "\n",
    "with g.as_default():\n",
    "    # Define tensorflow placeholder variables\n",
    "    #L_1 (in image) [being X]\n",
    "    inputs = tf.placeholder(tf.float32, (None, image_size), name=\"inputs\")\n",
    "    #L_3 (in image) [being X_hat]\n",
    "    targets = tf.placeholder(tf.float32, (None, image_size), name=\"targets\")\n",
    "    # Output of hidden layer L_2 (in image)\n",
    "    encoded = tf.layers.dense(inputs, hidden_layer_size, activation = tf.nn.sigmoid)\n",
    "    # Output layer logits for learning \n",
    "    logits = tf.layers.dense(encoded, image_size, activation=None)\n",
    "    # Sigmoid output from\n",
    "    decoded = tf.nn.sigmoid(logits, name='output')\n",
    "    # For optimization we need to learn the weights V and W\n",
    "    loss = tf.nn.sigmoid_cross_entropy_with_logits(labels=targets, logits=logits)\n",
    "    # Use euclidean distance loss\n",
    "    cost = tf.reduce_mean(loss)\n",
    "    # Use Adam Optimizer for adaptive learning rates/moments\n",
    "    optimizer = tf.train.AdamOptimizer(0.001).minimize(cost)\n",
    "    init = tf.global_variables_initializer()  \n",
    "    \n",
    "## Apply training by running the session with computational tf graph\n",
    "## Define next_batch function\n",
    "def next_batch(num, data, labels):\n",
    "    idx = np.arange(0 , len(data))\n",
    "    np.random.shuffle(idx)\n",
    "    idx = idx[:num]\n",
    "    data_shuffle = [data[i] for i in idx]\n",
    "    labels_shuffle = [labels[i] for i in idx]\n",
    "    return np.asarray(data_shuffle), np.asarray(labels_shuffle)"
   ]
  },
  {
   "cell_type": "code",
   "execution_count": 6,
   "metadata": {},
   "outputs": [
    {
     "name": "stdout",
     "output_type": "stream",
     "text": [
      "Epoch 001: mean squared error = 0.294\n",
      "Epoch 002: mean squared error = 0.246\n",
      "Epoch 003: mean squared error = 0.216\n",
      "Epoch 004: mean squared error = 0.192\n",
      "Epoch 005: mean squared error = 0.175\n",
      "Epoch 006: mean squared error = 0.163\n",
      "Epoch 007: mean squared error = 0.152\n",
      "Epoch 008: mean squared error = 0.143\n",
      "Epoch 009: mean squared error = 0.136\n",
      "Epoch 010: mean squared error = 0.129\n",
      "Epoch 011: mean squared error = 0.124\n",
      "Epoch 012: mean squared error = 0.119\n",
      "Epoch 013: mean squared error = 0.115\n",
      "Epoch 014: mean squared error = 0.112\n",
      "Epoch 015: mean squared error = 0.109\n",
      "Epoch 016: mean squared error = 0.107\n",
      "Epoch 017: mean squared error = 0.105\n",
      "Epoch 018: mean squared error = 0.103\n",
      "Epoch 019: mean squared error = 0.102\n",
      "Epoch 020: mean squared error = 0.100\n",
      "Epoch 021: mean squared error = 0.099\n",
      "Epoch 022: mean squared error = 0.098\n",
      "Epoch 023: mean squared error = 0.097\n",
      "Epoch 024: mean squared error = 0.096\n",
      "Epoch 025: mean squared error = 0.095\n",
      "Epoch 026: mean squared error = 0.094\n",
      "Epoch 027: mean squared error = 0.093\n",
      "Epoch 028: mean squared error = 0.091\n",
      "Epoch 029: mean squared error = 0.090\n",
      "Epoch 030: mean squared error = 0.089\n",
      "Epoch 031: mean squared error = 0.087\n",
      "Epoch 032: mean squared error = 0.085\n",
      "Epoch 033: mean squared error = 0.084\n",
      "Epoch 034: mean squared error = 0.082\n",
      "Epoch 035: mean squared error = 0.081\n",
      "Epoch 036: mean squared error = 0.080\n",
      "Epoch 037: mean squared error = 0.079\n",
      "Epoch 038: mean squared error = 0.078\n",
      "Epoch 039: mean squared error = 0.078\n",
      "Epoch 040: mean squared error = 0.077\n",
      "Epoch 041: mean squared error = 0.076\n",
      "Epoch 042: mean squared error = 0.076\n",
      "Epoch 043: mean squared error = 0.076\n",
      "Epoch 044: mean squared error = 0.075\n",
      "Epoch 045: mean squared error = 0.075\n",
      "Epoch 046: mean squared error = 0.074\n",
      "Epoch 047: mean squared error = 0.074\n",
      "Epoch 048: mean squared error = 0.074\n",
      "Epoch 049: mean squared error = 0.073\n",
      "Epoch 050: mean squared error = 0.073\n",
      "Training Complete.\n"
     ]
    }
   ],
   "source": [
    "## Run session on tensorflow graph defined above    \n",
    "## Create session:\n",
    "session = tf.Session(graph=g)\n",
    "# run initializer\n",
    "session.run(init)    \n",
    "cnt = 0\n",
    "for epoch in range(epochs):       \n",
    "    avg_cost = 0.0   \n",
    "    n_batches = int(len(X) / batch_size)\n",
    "    for i in range(n_batches):\n",
    "        batch_x , batch_y = next_batch(num=batch_size, data=X, labels=y)\n",
    "        \n",
    "        cnt+=1\n",
    "        feed = {inputs: batch_x, targets: batch_x}\n",
    "        _ , batch_cost = session.run([optimizer, cost], feed_dict = feed)\n",
    "        # aggregate cost and acc for each batch in epoch\n",
    "        avg_cost += batch_cost / n_batches\n",
    "            \n",
    "    # verbose\n",
    "    print (\"Epoch {:03}: mean squared error = {:.3f}\".format(\n",
    "        epoch+1, avg_cost))\n",
    "print(\"Training Complete.\")"
   ]
  },
  {
   "cell_type": "markdown",
   "metadata": {},
   "source": [
    "Plot the results from the neural network autoencoder.  \n",
    "Note the plot contains 10 images each in 3 rows.  \n",
    "$i = 1,2,3,4,5,6,7,8,9,10:$  \n",
    "The first row shows the original images $\\mathbf{x}_i$.  \n",
    "The second row shows the reconstructed image $\\hat{\\mathbf{x}}_i$.  \n",
    "The third row shows the compressed image $\\hat{\\mathbf{h}}_i$.  "
   ]
  },
  {
   "cell_type": "code",
   "execution_count": 7,
   "metadata": {},
   "outputs": [
    {
     "data": {
      "image/png": "[encoded data removed]",
      "text/plain": [
       "<Figure size 1440x288 with 20 Axes>"
      ]
     },
     "metadata": {},
     "output_type": "display_data"
    },
    {
     "data": {
      "image/png": "[encoded data removed]",
      "text/plain": [
       "<Figure size 1440x144 with 10 Axes>"
      ]
     },
     "metadata": {},
     "output_type": "display_data"
    }
   ],
   "source": [
    "fig, axes = plt.subplots(nrows=2, ncols=10, sharex=True, sharey=True, figsize=(20,4))\n",
    "in_imgs = X[:10]\n",
    "reconstructed, compressed = session.run([decoded, encoded], feed_dict={inputs: in_imgs})\n",
    "for images, row in zip([in_imgs, reconstructed], axes):\n",
    "    for img, ax in zip(images, row):\n",
    "        ax.imshow(img.reshape((28, 28)), cmap='Greys_r')\n",
    "        ax.get_xaxis().set_visible(False)\n",
    "        ax.get_yaxis().set_visible(False)\n",
    "fig.tight_layout(pad=0.1)\n",
    "# third row: compressed image (in latent space (being vector h))\n",
    "fig, axes = plt.subplots(nrows=1, ncols=10, sharex=True, sharey=True, figsize=(20,2))\n",
    "for i, ax in enumerate(fig.axes):\n",
    "    ax.imshow(compressed[i,:].reshape((9, 9)), cmap='Greys_r')\n",
    "    ax.get_xaxis().set_visible(False)\n",
    "    ax.get_yaxis().set_visible(False)\n",
    "fig.tight_layout(pad=0.1)\n",
    "\n",
    "## Close tensorflow session:\n",
    "session.close()\n",
    "## END"
   ]
  },
  {
   "cell_type": "code",
   "execution_count": null,
   "metadata": {},
   "outputs": [],
   "source": []
  }
 ],
 "metadata": {
  "kernelspec": {
   "display_name": "Python 3",
   "language": "python",
   "name": "python3"
  },
  "language_info": {
   "codemirror_mode": {
    "name": "ipython",
    "version": 3
   },
   "file_extension": ".py",
   "mimetype": "text/x-python",
   "name": "python",
   "nbconvert_exporter": "python",
   "pygments_lexer": "ipython3",
   "version": "3.6.5"
  }
 },
 "nbformat": 4,
 "nbformat_minor": 2
}
